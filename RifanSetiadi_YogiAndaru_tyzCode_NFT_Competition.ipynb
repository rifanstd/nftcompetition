{
  "nbformat": 4,
  "nbformat_minor": 0,
  "metadata": {
    "colab": {
      "name": "RifanSetiadi_YogiAndaru_tyzCode_NFT Competition",
      "provenance": [],
      "collapsed_sections": []
    },
    "kernelspec": {
      "name": "python3",
      "display_name": "Python 3"
    },
    "language_info": {
      "name": "python"
    }
  },
  "cells": [
    {
      "cell_type": "code",
      "source": [
        "# README\n",
        "\n",
        "# This program is designed to predict the average price of NFT items ('stats_average_price') with KNN Algorithm based on the following attributes:\n",
        "#     - stats_seven_day_volume\n",
        "#     - stats_seven_day_change\n",
        "#     - stats_seven_day_sales\n",
        "#     - stats_seven_day_average_price"
      ],
      "metadata": {
        "id": "AqimprS04l6I"
      },
      "execution_count": null,
      "outputs": []
    },
    {
      "cell_type": "code",
      "execution_count": null,
      "metadata": {
        "id": "gynUVpkSPPH9"
      },
      "outputs": [],
      "source": [
        "# import library\n",
        "\n",
        "import pandas as pd\n",
        "import matplotlib.pyplot as plt\n",
        "from sklearn.linear_model import LinearRegression\n",
        "from sklearn.model_selection import train_test_split\n",
        "import numpy as np\n",
        "from sklearn.neighbors import KNeighborsRegressor as KNN\n",
        "from sklearn.metrics import mean_squared_error as mse"
      ]
    },
    {
      "cell_type": "code",
      "source": [
        "# from google.colab import files\n",
        "# uploaded = files.upload()\n",
        "\n",
        "# import file\n",
        "collections = pd.read_csv('../content/Collections.csv')"
      ],
      "metadata": {
        "id": "YOnVTPy8PgcL"
      },
      "execution_count": null,
      "outputs": []
    },
    {
      "cell_type": "code",
      "source": [
        "# seeing data without table\n",
        "collections.info()"
      ],
      "metadata": {
        "colab": {
          "base_uri": "https://localhost:8080/"
        },
        "id": "ffmKBSFpBIK2",
        "outputId": "2e8b9451-5baf-4195-8b16-5023763b0e6a"
      },
      "execution_count": null,
      "outputs": [
        {
          "output_type": "stream",
          "name": "stdout",
          "text": [
            "<class 'pandas.core.frame.DataFrame'>\n",
            "RangeIndex: 1427 entries, 0 to 1426\n",
            "Data columns (total 46 columns):\n",
            " #   Column                                               Non-Null Count  Dtype  \n",
            "---  ------                                               --------------  -----  \n",
            " 0   primary_asset_contracts_address                      962 non-null    object \n",
            " 1   primary_asset_contracts_asset_contract_type          962 non-null    object \n",
            " 2   primary_asset_contracts_created_date                 962 non-null    object \n",
            " 3   primary_asset_contracts_name                         961 non-null    object \n",
            " 4   primary_asset_contracts_nft_version                  870 non-null    object \n",
            " 5   primary_asset_contracts_owner                        909 non-null    float64\n",
            " 6   primary_asset_contracts_schema_name                  962 non-null    object \n",
            " 7   primary_asset_contracts_symbol                       894 non-null    object \n",
            " 8   primary_asset_contracts_total_supply                 772 non-null    float64\n",
            " 9   primary_asset_contracts_description                  948 non-null    object \n",
            " 10  primary_asset_contracts_dev_seller_fee_basis_points  962 non-null    float64\n",
            " 11  primary_asset_contracts_seller_fee_basis_points      962 non-null    float64\n",
            " 12  primary_asset_contracts_payout_address               920 non-null    object \n",
            " 13  stats_one_day_volume                                 1427 non-null   float64\n",
            " 14  stats_one_day_change                                 1427 non-null   float64\n",
            " 15  stats_one_day_sales                                  1427 non-null   int64  \n",
            " 16  stats_one_day_average_price                          1427 non-null   float64\n",
            " 17  stats_seven_day_volume                               1427 non-null   float64\n",
            " 18  stats_seven_day_change                               1427 non-null   float64\n",
            " 19  stats_seven_day_sales                                1427 non-null   int64  \n",
            " 20  stats_seven_day_average_price                        1427 non-null   float64\n",
            " 21  stats_thirty_day_volume                              1427 non-null   float64\n",
            " 22  stats_thirty_day_change                              1427 non-null   float64\n",
            " 23  stats_thirty_day_sales                               1427 non-null   int64  \n",
            " 24  stats_thirty_day_average_price                       1427 non-null   float64\n",
            " 25  stats_total_volume                                   1427 non-null   float64\n",
            " 26  stats_total_sales                                    1427 non-null   float64\n",
            " 27  stats_total_supply                                   1427 non-null   int64  \n",
            " 28  stats_count                                          1427 non-null   int64  \n",
            " 29  stats_num_owners                                     1427 non-null   int64  \n",
            " 30  stats_average_price                                  1427 non-null   float64\n",
            " 31  stats_market_cap                                     1427 non-null   float64\n",
            " 32  stats_floor_price                                    1370 non-null   float64\n",
            " 33  slug                                                 1426 non-null   object \n",
            " 34  stats_time                                           1427 non-null   object \n",
            " 35  created_date                                         1427 non-null   object \n",
            " 36  description                                          1396 non-null   object \n",
            " 37  display_data_card_display_style                      1426 non-null   object \n",
            " 38  safelist_request_status                              1427 non-null   object \n",
            " 39  name                                                 1426 non-null   object \n",
            " 40  telegram_url                                         1427 non-null   int64  \n",
            " 41  twitter_username                                     1427 non-null   int64  \n",
            " 42  instagram_username                                   1427 non-null   int64  \n",
            " 43  discord_url                                          1427 non-null   int64  \n",
            " 44  medium_username                                      1427 non-null   int64  \n",
            " 45  external_url                                         1165 non-null   object \n",
            "dtypes: float64(18), int64(11), object(17)\n",
            "memory usage: 513.0+ KB\n"
          ]
        }
      ]
    },
    {
      "cell_type": "code",
      "source": [
        "# choose the attribute to be used\n",
        "dataframe = collections[['stats_average_price', 'stats_seven_day_volume', 'stats_seven_day_change', 'stats_seven_day_sales', 'stats_seven_day_average_price']]\n",
        "\n",
        "# delete rows that have value NaN\n",
        "dataframe.dropna(inplace=True)\n",
        "\n",
        "# display the first 5 data\n",
        "dataframe.head()"
      ],
      "metadata": {
        "colab": {
          "base_uri": "https://localhost:8080/",
          "height": 357
        },
        "id": "nNeFD6y7CAIL",
        "outputId": "7bab195c-7fa6-453a-93c5-0c1f5a005593"
      },
      "execution_count": null,
      "outputs": [
        {
          "output_type": "stream",
          "name": "stderr",
          "text": [
            "/usr/local/lib/python3.7/dist-packages/pandas/util/_decorators.py:311: SettingWithCopyWarning: \n",
            "A value is trying to be set on a copy of a slice from a DataFrame\n",
            "\n",
            "See the caveats in the documentation: https://pandas.pydata.org/pandas-docs/stable/user_guide/indexing.html#returning-a-view-versus-a-copy\n",
            "  return func(*args, **kwargs)\n"
          ]
        },
        {
          "output_type": "execute_result",
          "data": {
            "text/plain": [
              "   stats_average_price  stats_seven_day_volume  stats_seven_day_change  \\\n",
              "0             0.062486                0.210000               -0.468354   \n",
              "1             0.049917                0.543511               -0.192885   \n",
              "2             0.019447                0.171000               -0.250000   \n",
              "3             0.054100                0.251500               -0.405437   \n",
              "4             0.134088               17.672858               -0.608661   \n",
              "\n",
              "   stats_seven_day_sales  stats_seven_day_average_price  \n",
              "0                      4                       0.052500  \n",
              "1                     24                       0.022646  \n",
              "2                      9                       0.019000  \n",
              "3                     18                       0.013972  \n",
              "4                    223                       0.079250  "
            ],
            "text/html": [
              "\n",
              "  <div id=\"df-fce184ea-65ad-4f72-b4a2-eb76acde924a\">\n",
              "    <div class=\"colab-df-container\">\n",
              "      <div>\n",
              "<style scoped>\n",
              "    .dataframe tbody tr th:only-of-type {\n",
              "        vertical-align: middle;\n",
              "    }\n",
              "\n",
              "    .dataframe tbody tr th {\n",
              "        vertical-align: top;\n",
              "    }\n",
              "\n",
              "    .dataframe thead th {\n",
              "        text-align: right;\n",
              "    }\n",
              "</style>\n",
              "<table border=\"1\" class=\"dataframe\">\n",
              "  <thead>\n",
              "    <tr style=\"text-align: right;\">\n",
              "      <th></th>\n",
              "      <th>stats_average_price</th>\n",
              "      <th>stats_seven_day_volume</th>\n",
              "      <th>stats_seven_day_change</th>\n",
              "      <th>stats_seven_day_sales</th>\n",
              "      <th>stats_seven_day_average_price</th>\n",
              "    </tr>\n",
              "  </thead>\n",
              "  <tbody>\n",
              "    <tr>\n",
              "      <th>0</th>\n",
              "      <td>0.062486</td>\n",
              "      <td>0.210000</td>\n",
              "      <td>-0.468354</td>\n",
              "      <td>4</td>\n",
              "      <td>0.052500</td>\n",
              "    </tr>\n",
              "    <tr>\n",
              "      <th>1</th>\n",
              "      <td>0.049917</td>\n",
              "      <td>0.543511</td>\n",
              "      <td>-0.192885</td>\n",
              "      <td>24</td>\n",
              "      <td>0.022646</td>\n",
              "    </tr>\n",
              "    <tr>\n",
              "      <th>2</th>\n",
              "      <td>0.019447</td>\n",
              "      <td>0.171000</td>\n",
              "      <td>-0.250000</td>\n",
              "      <td>9</td>\n",
              "      <td>0.019000</td>\n",
              "    </tr>\n",
              "    <tr>\n",
              "      <th>3</th>\n",
              "      <td>0.054100</td>\n",
              "      <td>0.251500</td>\n",
              "      <td>-0.405437</td>\n",
              "      <td>18</td>\n",
              "      <td>0.013972</td>\n",
              "    </tr>\n",
              "    <tr>\n",
              "      <th>4</th>\n",
              "      <td>0.134088</td>\n",
              "      <td>17.672858</td>\n",
              "      <td>-0.608661</td>\n",
              "      <td>223</td>\n",
              "      <td>0.079250</td>\n",
              "    </tr>\n",
              "  </tbody>\n",
              "</table>\n",
              "</div>\n",
              "      <button class=\"colab-df-convert\" onclick=\"convertToInteractive('df-fce184ea-65ad-4f72-b4a2-eb76acde924a')\"\n",
              "              title=\"Convert this dataframe to an interactive table.\"\n",
              "              style=\"display:none;\">\n",
              "        \n",
              "  <svg xmlns=\"http://www.w3.org/2000/svg\" height=\"24px\"viewBox=\"0 0 24 24\"\n",
              "       width=\"24px\">\n",
              "    <path d=\"M0 0h24v24H0V0z\" fill=\"none\"/>\n",
              "    <path d=\"M18.56 5.44l.94 2.06.94-2.06 2.06-.94-2.06-.94-.94-2.06-.94 2.06-2.06.94zm-11 1L8.5 8.5l.94-2.06 2.06-.94-2.06-.94L8.5 2.5l-.94 2.06-2.06.94zm10 10l.94 2.06.94-2.06 2.06-.94-2.06-.94-.94-2.06-.94 2.06-2.06.94z\"/><path d=\"M17.41 7.96l-1.37-1.37c-.4-.4-.92-.59-1.43-.59-.52 0-1.04.2-1.43.59L10.3 9.45l-7.72 7.72c-.78.78-.78 2.05 0 2.83L4 21.41c.39.39.9.59 1.41.59.51 0 1.02-.2 1.41-.59l7.78-7.78 2.81-2.81c.8-.78.8-2.07 0-2.86zM5.41 20L4 18.59l7.72-7.72 1.47 1.35L5.41 20z\"/>\n",
              "  </svg>\n",
              "      </button>\n",
              "      \n",
              "  <style>\n",
              "    .colab-df-container {\n",
              "      display:flex;\n",
              "      flex-wrap:wrap;\n",
              "      gap: 12px;\n",
              "    }\n",
              "\n",
              "    .colab-df-convert {\n",
              "      background-color: #E8F0FE;\n",
              "      border: none;\n",
              "      border-radius: 50%;\n",
              "      cursor: pointer;\n",
              "      display: none;\n",
              "      fill: #1967D2;\n",
              "      height: 32px;\n",
              "      padding: 0 0 0 0;\n",
              "      width: 32px;\n",
              "    }\n",
              "\n",
              "    .colab-df-convert:hover {\n",
              "      background-color: #E2EBFA;\n",
              "      box-shadow: 0px 1px 2px rgba(60, 64, 67, 0.3), 0px 1px 3px 1px rgba(60, 64, 67, 0.15);\n",
              "      fill: #174EA6;\n",
              "    }\n",
              "\n",
              "    [theme=dark] .colab-df-convert {\n",
              "      background-color: #3B4455;\n",
              "      fill: #D2E3FC;\n",
              "    }\n",
              "\n",
              "    [theme=dark] .colab-df-convert:hover {\n",
              "      background-color: #434B5C;\n",
              "      box-shadow: 0px 1px 3px 1px rgba(0, 0, 0, 0.15);\n",
              "      filter: drop-shadow(0px 1px 2px rgba(0, 0, 0, 0.3));\n",
              "      fill: #FFFFFF;\n",
              "    }\n",
              "  </style>\n",
              "\n",
              "      <script>\n",
              "        const buttonEl =\n",
              "          document.querySelector('#df-fce184ea-65ad-4f72-b4a2-eb76acde924a button.colab-df-convert');\n",
              "        buttonEl.style.display =\n",
              "          google.colab.kernel.accessAllowed ? 'block' : 'none';\n",
              "\n",
              "        async function convertToInteractive(key) {\n",
              "          const element = document.querySelector('#df-fce184ea-65ad-4f72-b4a2-eb76acde924a');\n",
              "          const dataTable =\n",
              "            await google.colab.kernel.invokeFunction('convertToInteractive',\n",
              "                                                     [key], {});\n",
              "          if (!dataTable) return;\n",
              "\n",
              "          const docLinkHtml = 'Like what you see? Visit the ' +\n",
              "            '<a target=\"_blank\" href=https://colab.research.google.com/notebooks/data_table.ipynb>data table notebook</a>'\n",
              "            + ' to learn more about interactive tables.';\n",
              "          element.innerHTML = '';\n",
              "          dataTable['output_type'] = 'display_data';\n",
              "          await google.colab.output.renderOutput(dataTable, element);\n",
              "          const docLink = document.createElement('div');\n",
              "          docLink.innerHTML = docLinkHtml;\n",
              "          element.appendChild(docLink);\n",
              "        }\n",
              "      </script>\n",
              "    </div>\n",
              "  </div>\n",
              "  "
            ]
          },
          "metadata": {},
          "execution_count": 189
        }
      ]
    },
    {
      "cell_type": "code",
      "source": [
        "# see the data type of the dataframe\n",
        "dataframe.dtypes"
      ],
      "metadata": {
        "colab": {
          "base_uri": "https://localhost:8080/"
        },
        "id": "pYSEXcTaUcYB",
        "outputId": "4da6b8dc-cd06-4019-ab8b-91e3633d513f"
      },
      "execution_count": null,
      "outputs": [
        {
          "output_type": "execute_result",
          "data": {
            "text/plain": [
              "stats_average_price              float64\n",
              "stats_seven_day_volume           float64\n",
              "stats_seven_day_change           float64\n",
              "stats_seven_day_sales              int64\n",
              "stats_seven_day_average_price    float64\n",
              "dtype: object"
            ]
          },
          "metadata": {},
          "execution_count": 190
        }
      ]
    },
    {
      "cell_type": "code",
      "source": [
        "# detail\n",
        "dataframe.describe()"
      ],
      "metadata": {
        "colab": {
          "base_uri": "https://localhost:8080/",
          "height": 364
        },
        "id": "nis4XR63Jx7R",
        "outputId": "eebea435-8d7a-4d3a-a28e-7725a10954fd"
      },
      "execution_count": null,
      "outputs": [
        {
          "output_type": "execute_result",
          "data": {
            "text/plain": [
              "       stats_average_price  stats_seven_day_volume  stats_seven_day_change  \\\n",
              "count          1427.000000             1427.000000             1427.000000   \n",
              "mean              0.472879               78.462265                0.359122   \n",
              "std               1.679501              416.629583                4.484762   \n",
              "min               0.000000                0.000000               -1.000000   \n",
              "25%               0.059775                0.193200               -0.515376   \n",
              "50%               0.136490                2.252000                0.000000   \n",
              "75%               0.318681               19.843905                0.000000   \n",
              "max              44.115137             6548.109382              144.978034   \n",
              "\n",
              "       stats_seven_day_sales  stats_seven_day_average_price  \n",
              "count            1427.000000                    1427.000000  \n",
              "mean              193.095305                       0.539413  \n",
              "std               818.742395                       3.635685  \n",
              "min                 0.000000                       0.000000  \n",
              "25%                 3.000000                       0.030000  \n",
              "50%                28.000000                       0.085100  \n",
              "75%               111.500000                       0.229425  \n",
              "max             12354.000000                      94.489253  "
            ],
            "text/html": [
              "\n",
              "  <div id=\"df-43ccefeb-8b44-4ff5-a47b-f940e9f44e3d\">\n",
              "    <div class=\"colab-df-container\">\n",
              "      <div>\n",
              "<style scoped>\n",
              "    .dataframe tbody tr th:only-of-type {\n",
              "        vertical-align: middle;\n",
              "    }\n",
              "\n",
              "    .dataframe tbody tr th {\n",
              "        vertical-align: top;\n",
              "    }\n",
              "\n",
              "    .dataframe thead th {\n",
              "        text-align: right;\n",
              "    }\n",
              "</style>\n",
              "<table border=\"1\" class=\"dataframe\">\n",
              "  <thead>\n",
              "    <tr style=\"text-align: right;\">\n",
              "      <th></th>\n",
              "      <th>stats_average_price</th>\n",
              "      <th>stats_seven_day_volume</th>\n",
              "      <th>stats_seven_day_change</th>\n",
              "      <th>stats_seven_day_sales</th>\n",
              "      <th>stats_seven_day_average_price</th>\n",
              "    </tr>\n",
              "  </thead>\n",
              "  <tbody>\n",
              "    <tr>\n",
              "      <th>count</th>\n",
              "      <td>1427.000000</td>\n",
              "      <td>1427.000000</td>\n",
              "      <td>1427.000000</td>\n",
              "      <td>1427.000000</td>\n",
              "      <td>1427.000000</td>\n",
              "    </tr>\n",
              "    <tr>\n",
              "      <th>mean</th>\n",
              "      <td>0.472879</td>\n",
              "      <td>78.462265</td>\n",
              "      <td>0.359122</td>\n",
              "      <td>193.095305</td>\n",
              "      <td>0.539413</td>\n",
              "    </tr>\n",
              "    <tr>\n",
              "      <th>std</th>\n",
              "      <td>1.679501</td>\n",
              "      <td>416.629583</td>\n",
              "      <td>4.484762</td>\n",
              "      <td>818.742395</td>\n",
              "      <td>3.635685</td>\n",
              "    </tr>\n",
              "    <tr>\n",
              "      <th>min</th>\n",
              "      <td>0.000000</td>\n",
              "      <td>0.000000</td>\n",
              "      <td>-1.000000</td>\n",
              "      <td>0.000000</td>\n",
              "      <td>0.000000</td>\n",
              "    </tr>\n",
              "    <tr>\n",
              "      <th>25%</th>\n",
              "      <td>0.059775</td>\n",
              "      <td>0.193200</td>\n",
              "      <td>-0.515376</td>\n",
              "      <td>3.000000</td>\n",
              "      <td>0.030000</td>\n",
              "    </tr>\n",
              "    <tr>\n",
              "      <th>50%</th>\n",
              "      <td>0.136490</td>\n",
              "      <td>2.252000</td>\n",
              "      <td>0.000000</td>\n",
              "      <td>28.000000</td>\n",
              "      <td>0.085100</td>\n",
              "    </tr>\n",
              "    <tr>\n",
              "      <th>75%</th>\n",
              "      <td>0.318681</td>\n",
              "      <td>19.843905</td>\n",
              "      <td>0.000000</td>\n",
              "      <td>111.500000</td>\n",
              "      <td>0.229425</td>\n",
              "    </tr>\n",
              "    <tr>\n",
              "      <th>max</th>\n",
              "      <td>44.115137</td>\n",
              "      <td>6548.109382</td>\n",
              "      <td>144.978034</td>\n",
              "      <td>12354.000000</td>\n",
              "      <td>94.489253</td>\n",
              "    </tr>\n",
              "  </tbody>\n",
              "</table>\n",
              "</div>\n",
              "      <button class=\"colab-df-convert\" onclick=\"convertToInteractive('df-43ccefeb-8b44-4ff5-a47b-f940e9f44e3d')\"\n",
              "              title=\"Convert this dataframe to an interactive table.\"\n",
              "              style=\"display:none;\">\n",
              "        \n",
              "  <svg xmlns=\"http://www.w3.org/2000/svg\" height=\"24px\"viewBox=\"0 0 24 24\"\n",
              "       width=\"24px\">\n",
              "    <path d=\"M0 0h24v24H0V0z\" fill=\"none\"/>\n",
              "    <path d=\"M18.56 5.44l.94 2.06.94-2.06 2.06-.94-2.06-.94-.94-2.06-.94 2.06-2.06.94zm-11 1L8.5 8.5l.94-2.06 2.06-.94-2.06-.94L8.5 2.5l-.94 2.06-2.06.94zm10 10l.94 2.06.94-2.06 2.06-.94-2.06-.94-.94-2.06-.94 2.06-2.06.94z\"/><path d=\"M17.41 7.96l-1.37-1.37c-.4-.4-.92-.59-1.43-.59-.52 0-1.04.2-1.43.59L10.3 9.45l-7.72 7.72c-.78.78-.78 2.05 0 2.83L4 21.41c.39.39.9.59 1.41.59.51 0 1.02-.2 1.41-.59l7.78-7.78 2.81-2.81c.8-.78.8-2.07 0-2.86zM5.41 20L4 18.59l7.72-7.72 1.47 1.35L5.41 20z\"/>\n",
              "  </svg>\n",
              "      </button>\n",
              "      \n",
              "  <style>\n",
              "    .colab-df-container {\n",
              "      display:flex;\n",
              "      flex-wrap:wrap;\n",
              "      gap: 12px;\n",
              "    }\n",
              "\n",
              "    .colab-df-convert {\n",
              "      background-color: #E8F0FE;\n",
              "      border: none;\n",
              "      border-radius: 50%;\n",
              "      cursor: pointer;\n",
              "      display: none;\n",
              "      fill: #1967D2;\n",
              "      height: 32px;\n",
              "      padding: 0 0 0 0;\n",
              "      width: 32px;\n",
              "    }\n",
              "\n",
              "    .colab-df-convert:hover {\n",
              "      background-color: #E2EBFA;\n",
              "      box-shadow: 0px 1px 2px rgba(60, 64, 67, 0.3), 0px 1px 3px 1px rgba(60, 64, 67, 0.15);\n",
              "      fill: #174EA6;\n",
              "    }\n",
              "\n",
              "    [theme=dark] .colab-df-convert {\n",
              "      background-color: #3B4455;\n",
              "      fill: #D2E3FC;\n",
              "    }\n",
              "\n",
              "    [theme=dark] .colab-df-convert:hover {\n",
              "      background-color: #434B5C;\n",
              "      box-shadow: 0px 1px 3px 1px rgba(0, 0, 0, 0.15);\n",
              "      filter: drop-shadow(0px 1px 2px rgba(0, 0, 0, 0.3));\n",
              "      fill: #FFFFFF;\n",
              "    }\n",
              "  </style>\n",
              "\n",
              "      <script>\n",
              "        const buttonEl =\n",
              "          document.querySelector('#df-43ccefeb-8b44-4ff5-a47b-f940e9f44e3d button.colab-df-convert');\n",
              "        buttonEl.style.display =\n",
              "          google.colab.kernel.accessAllowed ? 'block' : 'none';\n",
              "\n",
              "        async function convertToInteractive(key) {\n",
              "          const element = document.querySelector('#df-43ccefeb-8b44-4ff5-a47b-f940e9f44e3d');\n",
              "          const dataTable =\n",
              "            await google.colab.kernel.invokeFunction('convertToInteractive',\n",
              "                                                     [key], {});\n",
              "          if (!dataTable) return;\n",
              "\n",
              "          const docLinkHtml = 'Like what you see? Visit the ' +\n",
              "            '<a target=\"_blank\" href=https://colab.research.google.com/notebooks/data_table.ipynb>data table notebook</a>'\n",
              "            + ' to learn more about interactive tables.';\n",
              "          element.innerHTML = '';\n",
              "          dataTable['output_type'] = 'display_data';\n",
              "          await google.colab.output.renderOutput(dataTable, element);\n",
              "          const docLink = document.createElement('div');\n",
              "          docLink.innerHTML = docLinkHtml;\n",
              "          element.appendChild(docLink);\n",
              "        }\n",
              "      </script>\n",
              "    </div>\n",
              "  </div>\n",
              "  "
            ]
          },
          "metadata": {},
          "execution_count": 136
        }
      ]
    },
    {
      "cell_type": "code",
      "source": [
        "# DETERMINING DEPENDENT AND INDEPENDENT VARIABLES\n",
        "\n",
        "# determine the independent variable from the data whose attributes have been selected\n",
        "# x will hold the independent variable, where 'stats_average_price' is not a dependent variable so the column is discarded\n",
        "x = dataframe.drop(['stats_average_price'], axis = 1)\n",
        "x"
      ],
      "metadata": {
        "colab": {
          "base_uri": "https://localhost:8080/",
          "height": 424
        },
        "id": "w77vAoODY7L3",
        "outputId": "8b47b69e-df8d-45a2-e3f5-79dfe1d48b59"
      },
      "execution_count": null,
      "outputs": [
        {
          "output_type": "execute_result",
          "data": {
            "text/plain": [
              "      stats_seven_day_volume  stats_seven_day_change  stats_seven_day_sales  \\\n",
              "0                   0.210000               -0.468354                      4   \n",
              "1                   0.543511               -0.192885                     24   \n",
              "2                   0.171000               -0.250000                      9   \n",
              "3                   0.251500               -0.405437                     18   \n",
              "4                  17.672858               -0.608661                    223   \n",
              "...                      ...                     ...                    ...   \n",
              "1422                0.100000                0.000000                      2   \n",
              "1423             1021.840644                0.768475                   3191   \n",
              "1424              151.487900               -0.085863                    120   \n",
              "1425                0.147500               -0.401137                     15   \n",
              "1426                0.010000                0.000000                      1   \n",
              "\n",
              "      stats_seven_day_average_price  \n",
              "0                          0.052500  \n",
              "1                          0.022646  \n",
              "2                          0.019000  \n",
              "3                          0.013972  \n",
              "4                          0.079250  \n",
              "...                             ...  \n",
              "1422                       0.050000  \n",
              "1423                       0.320226  \n",
              "1424                       1.262399  \n",
              "1425                       0.009833  \n",
              "1426                       0.010000  \n",
              "\n",
              "[1427 rows x 4 columns]"
            ],
            "text/html": [
              "\n",
              "  <div id=\"df-48cde88c-edd5-45fe-a2de-d0ed2a4d11d0\">\n",
              "    <div class=\"colab-df-container\">\n",
              "      <div>\n",
              "<style scoped>\n",
              "    .dataframe tbody tr th:only-of-type {\n",
              "        vertical-align: middle;\n",
              "    }\n",
              "\n",
              "    .dataframe tbody tr th {\n",
              "        vertical-align: top;\n",
              "    }\n",
              "\n",
              "    .dataframe thead th {\n",
              "        text-align: right;\n",
              "    }\n",
              "</style>\n",
              "<table border=\"1\" class=\"dataframe\">\n",
              "  <thead>\n",
              "    <tr style=\"text-align: right;\">\n",
              "      <th></th>\n",
              "      <th>stats_seven_day_volume</th>\n",
              "      <th>stats_seven_day_change</th>\n",
              "      <th>stats_seven_day_sales</th>\n",
              "      <th>stats_seven_day_average_price</th>\n",
              "    </tr>\n",
              "  </thead>\n",
              "  <tbody>\n",
              "    <tr>\n",
              "      <th>0</th>\n",
              "      <td>0.210000</td>\n",
              "      <td>-0.468354</td>\n",
              "      <td>4</td>\n",
              "      <td>0.052500</td>\n",
              "    </tr>\n",
              "    <tr>\n",
              "      <th>1</th>\n",
              "      <td>0.543511</td>\n",
              "      <td>-0.192885</td>\n",
              "      <td>24</td>\n",
              "      <td>0.022646</td>\n",
              "    </tr>\n",
              "    <tr>\n",
              "      <th>2</th>\n",
              "      <td>0.171000</td>\n",
              "      <td>-0.250000</td>\n",
              "      <td>9</td>\n",
              "      <td>0.019000</td>\n",
              "    </tr>\n",
              "    <tr>\n",
              "      <th>3</th>\n",
              "      <td>0.251500</td>\n",
              "      <td>-0.405437</td>\n",
              "      <td>18</td>\n",
              "      <td>0.013972</td>\n",
              "    </tr>\n",
              "    <tr>\n",
              "      <th>4</th>\n",
              "      <td>17.672858</td>\n",
              "      <td>-0.608661</td>\n",
              "      <td>223</td>\n",
              "      <td>0.079250</td>\n",
              "    </tr>\n",
              "    <tr>\n",
              "      <th>...</th>\n",
              "      <td>...</td>\n",
              "      <td>...</td>\n",
              "      <td>...</td>\n",
              "      <td>...</td>\n",
              "    </tr>\n",
              "    <tr>\n",
              "      <th>1422</th>\n",
              "      <td>0.100000</td>\n",
              "      <td>0.000000</td>\n",
              "      <td>2</td>\n",
              "      <td>0.050000</td>\n",
              "    </tr>\n",
              "    <tr>\n",
              "      <th>1423</th>\n",
              "      <td>1021.840644</td>\n",
              "      <td>0.768475</td>\n",
              "      <td>3191</td>\n",
              "      <td>0.320226</td>\n",
              "    </tr>\n",
              "    <tr>\n",
              "      <th>1424</th>\n",
              "      <td>151.487900</td>\n",
              "      <td>-0.085863</td>\n",
              "      <td>120</td>\n",
              "      <td>1.262399</td>\n",
              "    </tr>\n",
              "    <tr>\n",
              "      <th>1425</th>\n",
              "      <td>0.147500</td>\n",
              "      <td>-0.401137</td>\n",
              "      <td>15</td>\n",
              "      <td>0.009833</td>\n",
              "    </tr>\n",
              "    <tr>\n",
              "      <th>1426</th>\n",
              "      <td>0.010000</td>\n",
              "      <td>0.000000</td>\n",
              "      <td>1</td>\n",
              "      <td>0.010000</td>\n",
              "    </tr>\n",
              "  </tbody>\n",
              "</table>\n",
              "<p>1427 rows × 4 columns</p>\n",
              "</div>\n",
              "      <button class=\"colab-df-convert\" onclick=\"convertToInteractive('df-48cde88c-edd5-45fe-a2de-d0ed2a4d11d0')\"\n",
              "              title=\"Convert this dataframe to an interactive table.\"\n",
              "              style=\"display:none;\">\n",
              "        \n",
              "  <svg xmlns=\"http://www.w3.org/2000/svg\" height=\"24px\"viewBox=\"0 0 24 24\"\n",
              "       width=\"24px\">\n",
              "    <path d=\"M0 0h24v24H0V0z\" fill=\"none\"/>\n",
              "    <path d=\"M18.56 5.44l.94 2.06.94-2.06 2.06-.94-2.06-.94-.94-2.06-.94 2.06-2.06.94zm-11 1L8.5 8.5l.94-2.06 2.06-.94-2.06-.94L8.5 2.5l-.94 2.06-2.06.94zm10 10l.94 2.06.94-2.06 2.06-.94-2.06-.94-.94-2.06-.94 2.06-2.06.94z\"/><path d=\"M17.41 7.96l-1.37-1.37c-.4-.4-.92-.59-1.43-.59-.52 0-1.04.2-1.43.59L10.3 9.45l-7.72 7.72c-.78.78-.78 2.05 0 2.83L4 21.41c.39.39.9.59 1.41.59.51 0 1.02-.2 1.41-.59l7.78-7.78 2.81-2.81c.8-.78.8-2.07 0-2.86zM5.41 20L4 18.59l7.72-7.72 1.47 1.35L5.41 20z\"/>\n",
              "  </svg>\n",
              "      </button>\n",
              "      \n",
              "  <style>\n",
              "    .colab-df-container {\n",
              "      display:flex;\n",
              "      flex-wrap:wrap;\n",
              "      gap: 12px;\n",
              "    }\n",
              "\n",
              "    .colab-df-convert {\n",
              "      background-color: #E8F0FE;\n",
              "      border: none;\n",
              "      border-radius: 50%;\n",
              "      cursor: pointer;\n",
              "      display: none;\n",
              "      fill: #1967D2;\n",
              "      height: 32px;\n",
              "      padding: 0 0 0 0;\n",
              "      width: 32px;\n",
              "    }\n",
              "\n",
              "    .colab-df-convert:hover {\n",
              "      background-color: #E2EBFA;\n",
              "      box-shadow: 0px 1px 2px rgba(60, 64, 67, 0.3), 0px 1px 3px 1px rgba(60, 64, 67, 0.15);\n",
              "      fill: #174EA6;\n",
              "    }\n",
              "\n",
              "    [theme=dark] .colab-df-convert {\n",
              "      background-color: #3B4455;\n",
              "      fill: #D2E3FC;\n",
              "    }\n",
              "\n",
              "    [theme=dark] .colab-df-convert:hover {\n",
              "      background-color: #434B5C;\n",
              "      box-shadow: 0px 1px 3px 1px rgba(0, 0, 0, 0.15);\n",
              "      filter: drop-shadow(0px 1px 2px rgba(0, 0, 0, 0.3));\n",
              "      fill: #FFFFFF;\n",
              "    }\n",
              "  </style>\n",
              "\n",
              "      <script>\n",
              "        const buttonEl =\n",
              "          document.querySelector('#df-48cde88c-edd5-45fe-a2de-d0ed2a4d11d0 button.colab-df-convert');\n",
              "        buttonEl.style.display =\n",
              "          google.colab.kernel.accessAllowed ? 'block' : 'none';\n",
              "\n",
              "        async function convertToInteractive(key) {\n",
              "          const element = document.querySelector('#df-48cde88c-edd5-45fe-a2de-d0ed2a4d11d0');\n",
              "          const dataTable =\n",
              "            await google.colab.kernel.invokeFunction('convertToInteractive',\n",
              "                                                     [key], {});\n",
              "          if (!dataTable) return;\n",
              "\n",
              "          const docLinkHtml = 'Like what you see? Visit the ' +\n",
              "            '<a target=\"_blank\" href=https://colab.research.google.com/notebooks/data_table.ipynb>data table notebook</a>'\n",
              "            + ' to learn more about interactive tables.';\n",
              "          element.innerHTML = '';\n",
              "          dataTable['output_type'] = 'display_data';\n",
              "          await google.colab.output.renderOutput(dataTable, element);\n",
              "          const docLink = document.createElement('div');\n",
              "          docLink.innerHTML = docLinkHtml;\n",
              "          element.appendChild(docLink);\n",
              "        }\n",
              "      </script>\n",
              "    </div>\n",
              "  </div>\n",
              "  "
            ]
          },
          "metadata": {},
          "execution_count": 191
        }
      ]
    },
    {
      "cell_type": "code",
      "source": [
        "x.dtypes"
      ],
      "metadata": {
        "colab": {
          "base_uri": "https://localhost:8080/"
        },
        "id": "_mdqbGbSislo",
        "outputId": "426e9d69-5550-4475-ad3e-9169bc985894"
      },
      "execution_count": null,
      "outputs": [
        {
          "output_type": "execute_result",
          "data": {
            "text/plain": [
              "stats_seven_day_volume           float64\n",
              "stats_seven_day_change           float64\n",
              "stats_seven_day_sales              int64\n",
              "stats_seven_day_average_price    float64\n",
              "dtype: object"
            ]
          },
          "metadata": {},
          "execution_count": 138
        }
      ]
    },
    {
      "cell_type": "code",
      "source": [
        "# determine the dependent variable\n",
        "# 'stats_average_price' is used as dependent variable\n",
        "y = dataframe['stats_average_price']\n",
        "y.head()"
      ],
      "metadata": {
        "colab": {
          "base_uri": "https://localhost:8080/"
        },
        "id": "NvayrzvzZBlN",
        "outputId": "fb7b9af3-5acc-40d2-f7e4-fe94cfc11a9f"
      },
      "execution_count": null,
      "outputs": [
        {
          "output_type": "execute_result",
          "data": {
            "text/plain": [
              "0    0.062486\n",
              "1    0.049917\n",
              "2    0.019447\n",
              "3    0.054100\n",
              "4    0.134088\n",
              "Name: stats_average_price, dtype: float64"
            ]
          },
          "metadata": {},
          "execution_count": 192
        }
      ]
    },
    {
      "cell_type": "code",
      "source": [
        "y.dtypes"
      ],
      "metadata": {
        "colab": {
          "base_uri": "https://localhost:8080/"
        },
        "id": "dKaWw0dAj-PP",
        "outputId": "350be3c1-b4ff-4278-84ac-122a98837cc2"
      },
      "execution_count": null,
      "outputs": [
        {
          "output_type": "execute_result",
          "data": {
            "text/plain": [
              "dtype('float64')"
            ]
          },
          "metadata": {},
          "execution_count": 140
        }
      ]
    },
    {
      "cell_type": "code",
      "source": [
        "# Partitioning data for training and validation\n",
        "train_x, test_x, train_y, test_y = train_test_split(x, y, test_size = 0.3, random_state = 0)"
      ],
      "metadata": {
        "id": "9k72zeXEZrHd"
      },
      "execution_count": null,
      "outputs": []
    },
    {
      "cell_type": "code",
      "source": [
        "# Build a Machine Learning Model using the K-Nearest Neighbors algorithm\n",
        "model = KNN(n_neighbors = 3)"
      ],
      "metadata": {
        "id": "awIT6DPYaf_r"
      },
      "execution_count": null,
      "outputs": []
    },
    {
      "cell_type": "code",
      "source": [
        "# Training data using the model that has been made\n",
        "\n",
        "# models for training data\n",
        "model.fit(train_x, train_y)\n",
        "accuracy = model.score(test_x, test_y) # calculate accuracy score\n",
        "\n",
        "# testing for predictions\n",
        "test_predict = model.predict(test_x)\n",
        "mse_score = mse(test_predict, test_y)\n",
        "print(' MSE: ', mse_score, '\\n', 'Accuracy: ', accuracy)"
      ],
      "metadata": {
        "colab": {
          "base_uri": "https://localhost:8080/"
        },
        "id": "EMG6NPCkfcuU",
        "outputId": "146a8310-da3e-4a96-c3c2-0b1b36ac4ceb"
      },
      "execution_count": null,
      "outputs": [
        {
          "output_type": "stream",
          "name": "stdout",
          "text": [
            " MSE:  2.9305615313010995 \n",
            " Accuracy:  0.4301248285523296\n"
          ]
        }
      ]
    },
    {
      "cell_type": "code",
      "source": [
        "# create elbow method to determine the best K value\n",
        "\n",
        "def elbow(k):\n",
        "  # create an empty list\n",
        "  list_accuracy = []\n",
        "\n",
        "  # training data on each value of k\n",
        "  for i in k:\n",
        "    model = KNN(n_neighbors = i)\n",
        "    model.fit(train_x, train_y)\n",
        "    accuracy = model.score(test_x, test_y)\n",
        "    list_accuracy.append(accuracy)\n",
        "    \n",
        "  return list_accuracy"
      ],
      "metadata": {
        "id": "XToRdyjBhv7C"
      },
      "execution_count": null,
      "outputs": []
    },
    {
      "cell_type": "code",
      "source": [
        "# graph of k value vs accuracy\n",
        "\n",
        "k = range(1, 15)\n",
        "get_list_accuracy = elbow(k)\n",
        "\n",
        "# plotting\n",
        "plt.figure(figsize=(10,5))\n",
        "plt.plot(k, get_list_accuracy, color='red', marker='o')\n",
        "plt.xlabel('K number of Neighbors', fontdict={'fontsize': 20})\n",
        "plt.ylabel('Accuracy', fontdict={'fontsize': 20})\n",
        "plt.title('K NUMBER VS ACCURACY', fontdict={'fontsize': 35})\n",
        "plt.show()"
      ],
      "metadata": {
        "colab": {
          "base_uri": "https://localhost:8080/",
          "height": 377
        },
        "id": "ShH_-NcQsD2G",
        "outputId": "24e9e2b1-83f8-43e7-83d4-ed123c50080b"
      },
      "execution_count": null,
      "outputs": [
        {
          "output_type": "display_data",
          "data": {
            "text/plain": [
              "<Figure size 720x360 with 1 Axes>"
            ],
            "image/png": "[encoded data removed]"
          },
          "metadata": {
            "needs_background": "light"
          }
        }
      ]
    },
    {
      "cell_type": "code",
      "source": [
        "# see accuracy(%) vs K number of Neighbors without graph\n",
        "k = range(1, 15)\n",
        "test = elbow(k)\n",
        "\n",
        "print('K', '\\t', 'Accuracy (%)')\n",
        "print('---------------------------------')\n",
        "for i in k:\n",
        "  print(i, '\\t', str((test[i-1]*100))+' %')"
      ],
      "metadata": {
        "colab": {
          "base_uri": "https://localhost:8080/"
        },
        "id": "sM2T-Spjua0l",
        "outputId": "7c7ee237-3042-44d4-a98c-d04ac83c6484"
      },
      "execution_count": null,
      "outputs": [
        {
          "output_type": "stream",
          "name": "stdout",
          "text": [
            "K \t Accuracy (%)\n",
            "---------------------------------\n",
            "1 \t 37.99172035115952 %\n",
            "2 \t 49.63996506986975 %\n",
            "3 \t 43.01248285523296 %\n",
            "4 \t 42.291790209800574 %\n",
            "5 \t 36.297252226197486 %\n",
            "6 \t 34.465474886637374 %\n",
            "7 \t 31.077411333359862 %\n",
            "8 \t 28.67436352914885 %\n",
            "9 \t 26.79953608036103 %\n",
            "10 \t 25.434051236354783 %\n",
            "11 \t 24.690328307552456 %\n",
            "12 \t 23.29706939140501 %\n",
            "13 \t 26.03122754339031 %\n",
            "14 \t 25.462329003621022 %\n"
          ]
        }
      ]
    },
    {
      "cell_type": "code",
      "source": [
        "# Determine the average price prediction based on the attributes stats_seven_day_volume, stats_seven_day_change, stats_seven_day_sales, stats_seven_day_average_price\n",
        "# attribute format : [stats_seven_day_volume, stats_seven_day_change, stats_seven_day_sales, stats_seven_day_average_price]\n",
        "# example : [19, 5.1, 24, 0.236123]\n",
        "\n",
        "# PREDICTION\n",
        "\n",
        "average_nft_price = np.array([[19, 5.1, 24, 0.236123]])\n",
        "prediction = model.predict(average_nft_price)\n",
        "\n",
        "print('Average NFT Price based on attributes a, b and c that have been entered is ' + str(prediction), 'ETH\\n\\n')"
      ],
      "metadata": {
        "colab": {
          "base_uri": "https://localhost:8080/"
        },
        "id": "3ABH2vMWvzAm",
        "outputId": "c58c910f-5e52-4b09-96e0-f2ca373efbf5"
      },
      "execution_count": null,
      "outputs": [
        {
          "output_type": "stream",
          "name": "stdout",
          "text": [
            "Average NFT Price based on attributes a, b and c that have been entered is [0.92045451] ETH\n",
            "\n",
            "\n"
          ]
        },
        {
          "output_type": "stream",
          "name": "stderr",
          "text": [
            "/usr/local/lib/python3.7/dist-packages/sklearn/base.py:451: UserWarning: X does not have valid feature names, but KNeighborsRegressor was fitted with feature names\n",
            "  \"X does not have valid feature names, but\"\n"
          ]
        }
      ]
    },
    {
      "cell_type": "code",
      "source": [
        ""
      ],
      "metadata": {
        "id": "_uYruIjazgmZ"
      },
      "execution_count": null,
      "outputs": []
    }
  ]
}